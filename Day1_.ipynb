{
  "nbformat": 4,
  "nbformat_minor": 0,
  "metadata": {
    "colab": {
      "name": "Day1 .ipynb",
      "provenance": [],
      "collapsed_sections": []
    },
    "kernelspec": {
      "name": "python3",
      "display_name": "Python 3"
    },
    "language_info": {
      "name": "python"
    }
  },
  "cells": [
    {
      "cell_type": "code",
      "metadata": {
        "colab": {
          "base_uri": "https://localhost:8080/"
        },
        "id": "ppShaeGv7zHP",
        "outputId": "085490f9-183c-404e-95b0-3fd40f22d6e8"
      },
      "source": [
        "a=int(input(\"Enter first number :\"))\n",
        "b=int(input(\"Enter second number :\"))\n",
        "sum = a + b\n",
        "print(\"your sum is :\" ,sum)\n",
        "sub = a - b\n",
        "print(\"your subtraction is :\" ,sub)\n",
        "divide = a / b\n",
        "print(\"your Division is :\" ,divide)\n",
        "mul = a * b\n",
        "print(\"your multiplication is :\" ,mul)"
      ],
      "execution_count": null,
      "outputs": [
        {
          "output_type": "stream",
          "text": [
            "Enter first number :20\n",
            "Enter second number :30\n",
            "your sum is : 50\n",
            "your subtraction is : -10\n",
            "your Division is : 0.6666666666666666\n",
            "your multiplication is : 600\n"
          ],
          "name": "stdout"
        }
      ]
    }
  ]
}